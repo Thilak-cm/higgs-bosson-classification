{
 "cells": [
  {
   "cell_type": "markdown",
   "id": "e26c031d",
   "metadata": {},
   "source": [
    "# Importing Libraries"
   ]
  },
  {
   "cell_type": "code",
   "execution_count": 1,
   "id": "348941c5",
   "metadata": {
    "ExecuteTime": {
     "end_time": "2022-06-07T10:59:22.279982Z",
     "start_time": "2022-06-07T10:59:20.665924Z"
    }
   },
   "outputs": [],
   "source": [
    "import pandas as pd \n",
    "import seaborn as sns\n",
    "import numpy as np \n",
    "import matplotlib.pyplot as plt\n",
    "\n",
    "%matplotlib inline "
   ]
  },
  {
   "cell_type": "code",
   "execution_count": 2,
   "id": "386c1a14",
   "metadata": {
    "ExecuteTime": {
     "end_time": "2022-06-07T10:59:23.236769Z",
     "start_time": "2022-06-07T10:59:22.282196Z"
    }
   },
   "outputs": [],
   "source": [
    "df = pd.read_csv(\"training.csv\")"
   ]
  },
  {
   "cell_type": "markdown",
   "id": "3f5d287e",
   "metadata": {},
   "source": [
    "# Exploratory Data Analysis"
   ]
  },
  {
   "cell_type": "code",
   "execution_count": 3,
   "id": "d94dc0d3",
   "metadata": {
    "ExecuteTime": {
     "end_time": "2022-06-07T10:59:23.264894Z",
     "start_time": "2022-06-07T10:59:23.239506Z"
    }
   },
   "outputs": [
    {
     "data": {
      "text/html": [
       "<div>\n",
       "<style scoped>\n",
       "    .dataframe tbody tr th:only-of-type {\n",
       "        vertical-align: middle;\n",
       "    }\n",
       "\n",
       "    .dataframe tbody tr th {\n",
       "        vertical-align: top;\n",
       "    }\n",
       "\n",
       "    .dataframe thead th {\n",
       "        text-align: right;\n",
       "    }\n",
       "</style>\n",
       "<table border=\"1\" class=\"dataframe\">\n",
       "  <thead>\n",
       "    <tr style=\"text-align: right;\">\n",
       "      <th></th>\n",
       "      <th>EventId</th>\n",
       "      <th>DER_mass_MMC</th>\n",
       "      <th>DER_mass_transverse_met_lep</th>\n",
       "      <th>DER_mass_vis</th>\n",
       "      <th>DER_pt_h</th>\n",
       "      <th>DER_deltaeta_jet_jet</th>\n",
       "      <th>DER_mass_jet_jet</th>\n",
       "      <th>DER_prodeta_jet_jet</th>\n",
       "      <th>DER_deltar_tau_lep</th>\n",
       "      <th>DER_pt_tot</th>\n",
       "      <th>...</th>\n",
       "      <th>PRI_jet_num</th>\n",
       "      <th>PRI_jet_leading_pt</th>\n",
       "      <th>PRI_jet_leading_eta</th>\n",
       "      <th>PRI_jet_leading_phi</th>\n",
       "      <th>PRI_jet_subleading_pt</th>\n",
       "      <th>PRI_jet_subleading_eta</th>\n",
       "      <th>PRI_jet_subleading_phi</th>\n",
       "      <th>PRI_jet_all_pt</th>\n",
       "      <th>Weight</th>\n",
       "      <th>Label</th>\n",
       "    </tr>\n",
       "  </thead>\n",
       "  <tbody>\n",
       "    <tr>\n",
       "      <th>0</th>\n",
       "      <td>100000</td>\n",
       "      <td>138.470</td>\n",
       "      <td>51.655</td>\n",
       "      <td>97.827</td>\n",
       "      <td>27.980</td>\n",
       "      <td>0.91</td>\n",
       "      <td>124.711</td>\n",
       "      <td>2.666</td>\n",
       "      <td>3.064</td>\n",
       "      <td>41.928</td>\n",
       "      <td>...</td>\n",
       "      <td>2</td>\n",
       "      <td>67.435</td>\n",
       "      <td>2.150</td>\n",
       "      <td>0.444</td>\n",
       "      <td>46.062</td>\n",
       "      <td>1.24</td>\n",
       "      <td>-2.475</td>\n",
       "      <td>113.497</td>\n",
       "      <td>0.002653</td>\n",
       "      <td>s</td>\n",
       "    </tr>\n",
       "    <tr>\n",
       "      <th>1</th>\n",
       "      <td>100001</td>\n",
       "      <td>160.937</td>\n",
       "      <td>68.768</td>\n",
       "      <td>103.235</td>\n",
       "      <td>48.146</td>\n",
       "      <td>-999.00</td>\n",
       "      <td>-999.000</td>\n",
       "      <td>-999.000</td>\n",
       "      <td>3.473</td>\n",
       "      <td>2.078</td>\n",
       "      <td>...</td>\n",
       "      <td>1</td>\n",
       "      <td>46.226</td>\n",
       "      <td>0.725</td>\n",
       "      <td>1.158</td>\n",
       "      <td>-999.000</td>\n",
       "      <td>-999.00</td>\n",
       "      <td>-999.000</td>\n",
       "      <td>46.226</td>\n",
       "      <td>2.233584</td>\n",
       "      <td>b</td>\n",
       "    </tr>\n",
       "    <tr>\n",
       "      <th>2</th>\n",
       "      <td>100002</td>\n",
       "      <td>-999.000</td>\n",
       "      <td>162.172</td>\n",
       "      <td>125.953</td>\n",
       "      <td>35.635</td>\n",
       "      <td>-999.00</td>\n",
       "      <td>-999.000</td>\n",
       "      <td>-999.000</td>\n",
       "      <td>3.148</td>\n",
       "      <td>9.336</td>\n",
       "      <td>...</td>\n",
       "      <td>1</td>\n",
       "      <td>44.251</td>\n",
       "      <td>2.053</td>\n",
       "      <td>-2.028</td>\n",
       "      <td>-999.000</td>\n",
       "      <td>-999.00</td>\n",
       "      <td>-999.000</td>\n",
       "      <td>44.251</td>\n",
       "      <td>2.347389</td>\n",
       "      <td>b</td>\n",
       "    </tr>\n",
       "    <tr>\n",
       "      <th>3</th>\n",
       "      <td>100003</td>\n",
       "      <td>143.905</td>\n",
       "      <td>81.417</td>\n",
       "      <td>80.943</td>\n",
       "      <td>0.414</td>\n",
       "      <td>-999.00</td>\n",
       "      <td>-999.000</td>\n",
       "      <td>-999.000</td>\n",
       "      <td>3.310</td>\n",
       "      <td>0.414</td>\n",
       "      <td>...</td>\n",
       "      <td>0</td>\n",
       "      <td>-999.000</td>\n",
       "      <td>-999.000</td>\n",
       "      <td>-999.000</td>\n",
       "      <td>-999.000</td>\n",
       "      <td>-999.00</td>\n",
       "      <td>-999.000</td>\n",
       "      <td>-0.000</td>\n",
       "      <td>5.446378</td>\n",
       "      <td>b</td>\n",
       "    </tr>\n",
       "    <tr>\n",
       "      <th>4</th>\n",
       "      <td>100004</td>\n",
       "      <td>175.864</td>\n",
       "      <td>16.915</td>\n",
       "      <td>134.805</td>\n",
       "      <td>16.405</td>\n",
       "      <td>-999.00</td>\n",
       "      <td>-999.000</td>\n",
       "      <td>-999.000</td>\n",
       "      <td>3.891</td>\n",
       "      <td>16.405</td>\n",
       "      <td>...</td>\n",
       "      <td>0</td>\n",
       "      <td>-999.000</td>\n",
       "      <td>-999.000</td>\n",
       "      <td>-999.000</td>\n",
       "      <td>-999.000</td>\n",
       "      <td>-999.00</td>\n",
       "      <td>-999.000</td>\n",
       "      <td>0.000</td>\n",
       "      <td>6.245333</td>\n",
       "      <td>b</td>\n",
       "    </tr>\n",
       "  </tbody>\n",
       "</table>\n",
       "<p>5 rows × 33 columns</p>\n",
       "</div>"
      ],
      "text/plain": [
       "   EventId  DER_mass_MMC  DER_mass_transverse_met_lep  DER_mass_vis  DER_pt_h  \\\n",
       "0   100000       138.470                       51.655        97.827    27.980   \n",
       "1   100001       160.937                       68.768       103.235    48.146   \n",
       "2   100002      -999.000                      162.172       125.953    35.635   \n",
       "3   100003       143.905                       81.417        80.943     0.414   \n",
       "4   100004       175.864                       16.915       134.805    16.405   \n",
       "\n",
       "   DER_deltaeta_jet_jet  DER_mass_jet_jet  DER_prodeta_jet_jet  \\\n",
       "0                  0.91           124.711                2.666   \n",
       "1               -999.00          -999.000             -999.000   \n",
       "2               -999.00          -999.000             -999.000   \n",
       "3               -999.00          -999.000             -999.000   \n",
       "4               -999.00          -999.000             -999.000   \n",
       "\n",
       "   DER_deltar_tau_lep  DER_pt_tot  ...  PRI_jet_num  PRI_jet_leading_pt  \\\n",
       "0               3.064      41.928  ...            2              67.435   \n",
       "1               3.473       2.078  ...            1              46.226   \n",
       "2               3.148       9.336  ...            1              44.251   \n",
       "3               3.310       0.414  ...            0            -999.000   \n",
       "4               3.891      16.405  ...            0            -999.000   \n",
       "\n",
       "   PRI_jet_leading_eta  PRI_jet_leading_phi  PRI_jet_subleading_pt  \\\n",
       "0                2.150                0.444                 46.062   \n",
       "1                0.725                1.158               -999.000   \n",
       "2                2.053               -2.028               -999.000   \n",
       "3             -999.000             -999.000               -999.000   \n",
       "4             -999.000             -999.000               -999.000   \n",
       "\n",
       "   PRI_jet_subleading_eta  PRI_jet_subleading_phi  PRI_jet_all_pt    Weight  \\\n",
       "0                    1.24                  -2.475         113.497  0.002653   \n",
       "1                 -999.00                -999.000          46.226  2.233584   \n",
       "2                 -999.00                -999.000          44.251  2.347389   \n",
       "3                 -999.00                -999.000          -0.000  5.446378   \n",
       "4                 -999.00                -999.000           0.000  6.245333   \n",
       "\n",
       "   Label  \n",
       "0      s  \n",
       "1      b  \n",
       "2      b  \n",
       "3      b  \n",
       "4      b  \n",
       "\n",
       "[5 rows x 33 columns]"
      ]
     },
     "execution_count": 3,
     "metadata": {},
     "output_type": "execute_result"
    }
   ],
   "source": [
    "df.head()"
   ]
  },
  {
   "cell_type": "code",
   "execution_count": 4,
   "id": "74883618",
   "metadata": {
    "ExecuteTime": {
     "end_time": "2022-06-07T10:59:23.310767Z",
     "start_time": "2022-06-07T10:59:23.266942Z"
    }
   },
   "outputs": [
    {
     "name": "stdout",
     "output_type": "stream",
     "text": [
      "<class 'pandas.core.frame.DataFrame'>\n",
      "RangeIndex: 250000 entries, 0 to 249999\n",
      "Data columns (total 33 columns):\n",
      " #   Column                       Non-Null Count   Dtype  \n",
      "---  ------                       --------------   -----  \n",
      " 0   EventId                      250000 non-null  int64  \n",
      " 1   DER_mass_MMC                 250000 non-null  float64\n",
      " 2   DER_mass_transverse_met_lep  250000 non-null  float64\n",
      " 3   DER_mass_vis                 250000 non-null  float64\n",
      " 4   DER_pt_h                     250000 non-null  float64\n",
      " 5   DER_deltaeta_jet_jet         250000 non-null  float64\n",
      " 6   DER_mass_jet_jet             250000 non-null  float64\n",
      " 7   DER_prodeta_jet_jet          250000 non-null  float64\n",
      " 8   DER_deltar_tau_lep           250000 non-null  float64\n",
      " 9   DER_pt_tot                   250000 non-null  float64\n",
      " 10  DER_sum_pt                   250000 non-null  float64\n",
      " 11  DER_pt_ratio_lep_tau         250000 non-null  float64\n",
      " 12  DER_met_phi_centrality       250000 non-null  float64\n",
      " 13  DER_lep_eta_centrality       250000 non-null  float64\n",
      " 14  PRI_tau_pt                   250000 non-null  float64\n",
      " 15  PRI_tau_eta                  250000 non-null  float64\n",
      " 16  PRI_tau_phi                  250000 non-null  float64\n",
      " 17  PRI_lep_pt                   250000 non-null  float64\n",
      " 18  PRI_lep_eta                  250000 non-null  float64\n",
      " 19  PRI_lep_phi                  250000 non-null  float64\n",
      " 20  PRI_met                      250000 non-null  float64\n",
      " 21  PRI_met_phi                  250000 non-null  float64\n",
      " 22  PRI_met_sumet                250000 non-null  float64\n",
      " 23  PRI_jet_num                  250000 non-null  int64  \n",
      " 24  PRI_jet_leading_pt           250000 non-null  float64\n",
      " 25  PRI_jet_leading_eta          250000 non-null  float64\n",
      " 26  PRI_jet_leading_phi          250000 non-null  float64\n",
      " 27  PRI_jet_subleading_pt        250000 non-null  float64\n",
      " 28  PRI_jet_subleading_eta       250000 non-null  float64\n",
      " 29  PRI_jet_subleading_phi       250000 non-null  float64\n",
      " 30  PRI_jet_all_pt               250000 non-null  float64\n",
      " 31  Weight                       250000 non-null  float64\n",
      " 32  Label                        250000 non-null  object \n",
      "dtypes: float64(30), int64(2), object(1)\n",
      "memory usage: 62.9+ MB\n"
     ]
    }
   ],
   "source": [
    "df.info()"
   ]
  },
  {
   "cell_type": "code",
   "execution_count": 5,
   "id": "5e1a88c8",
   "metadata": {
    "ExecuteTime": {
     "end_time": "2022-06-07T10:59:23.666772Z",
     "start_time": "2022-06-07T10:59:23.312154Z"
    }
   },
   "outputs": [
    {
     "data": {
      "text/html": [
       "<div>\n",
       "<style scoped>\n",
       "    .dataframe tbody tr th:only-of-type {\n",
       "        vertical-align: middle;\n",
       "    }\n",
       "\n",
       "    .dataframe tbody tr th {\n",
       "        vertical-align: top;\n",
       "    }\n",
       "\n",
       "    .dataframe thead th {\n",
       "        text-align: right;\n",
       "    }\n",
       "</style>\n",
       "<table border=\"1\" class=\"dataframe\">\n",
       "  <thead>\n",
       "    <tr style=\"text-align: right;\">\n",
       "      <th></th>\n",
       "      <th>count</th>\n",
       "      <th>mean</th>\n",
       "      <th>std</th>\n",
       "      <th>min</th>\n",
       "      <th>25%</th>\n",
       "      <th>50%</th>\n",
       "      <th>75%</th>\n",
       "      <th>max</th>\n",
       "    </tr>\n",
       "  </thead>\n",
       "  <tbody>\n",
       "    <tr>\n",
       "      <th>EventId</th>\n",
       "      <td>250000.0</td>\n",
       "      <td>224999.500000</td>\n",
       "      <td>72168.927986</td>\n",
       "      <td>100000.000000</td>\n",
       "      <td>162499.750000</td>\n",
       "      <td>224999.500000</td>\n",
       "      <td>287499.250000</td>\n",
       "      <td>349999.000000</td>\n",
       "    </tr>\n",
       "    <tr>\n",
       "      <th>DER_mass_MMC</th>\n",
       "      <td>250000.0</td>\n",
       "      <td>-49.023079</td>\n",
       "      <td>406.345647</td>\n",
       "      <td>-999.000000</td>\n",
       "      <td>78.100750</td>\n",
       "      <td>105.012000</td>\n",
       "      <td>130.606250</td>\n",
       "      <td>1192.026000</td>\n",
       "    </tr>\n",
       "    <tr>\n",
       "      <th>DER_mass_transverse_met_lep</th>\n",
       "      <td>250000.0</td>\n",
       "      <td>49.239819</td>\n",
       "      <td>35.344886</td>\n",
       "      <td>0.000000</td>\n",
       "      <td>19.241000</td>\n",
       "      <td>46.524000</td>\n",
       "      <td>73.598000</td>\n",
       "      <td>690.075000</td>\n",
       "    </tr>\n",
       "    <tr>\n",
       "      <th>DER_mass_vis</th>\n",
       "      <td>250000.0</td>\n",
       "      <td>81.181982</td>\n",
       "      <td>40.828691</td>\n",
       "      <td>6.329000</td>\n",
       "      <td>59.388750</td>\n",
       "      <td>73.752000</td>\n",
       "      <td>92.259000</td>\n",
       "      <td>1349.351000</td>\n",
       "    </tr>\n",
       "    <tr>\n",
       "      <th>DER_pt_h</th>\n",
       "      <td>250000.0</td>\n",
       "      <td>57.895962</td>\n",
       "      <td>63.655682</td>\n",
       "      <td>0.000000</td>\n",
       "      <td>14.068750</td>\n",
       "      <td>38.467500</td>\n",
       "      <td>79.169000</td>\n",
       "      <td>2834.999000</td>\n",
       "    </tr>\n",
       "    <tr>\n",
       "      <th>DER_deltaeta_jet_jet</th>\n",
       "      <td>250000.0</td>\n",
       "      <td>-708.420675</td>\n",
       "      <td>454.480565</td>\n",
       "      <td>-999.000000</td>\n",
       "      <td>-999.000000</td>\n",
       "      <td>-999.000000</td>\n",
       "      <td>0.490000</td>\n",
       "      <td>8.503000</td>\n",
       "    </tr>\n",
       "    <tr>\n",
       "      <th>DER_mass_jet_jet</th>\n",
       "      <td>250000.0</td>\n",
       "      <td>-601.237051</td>\n",
       "      <td>657.972302</td>\n",
       "      <td>-999.000000</td>\n",
       "      <td>-999.000000</td>\n",
       "      <td>-999.000000</td>\n",
       "      <td>83.446000</td>\n",
       "      <td>4974.979000</td>\n",
       "    </tr>\n",
       "    <tr>\n",
       "      <th>DER_prodeta_jet_jet</th>\n",
       "      <td>250000.0</td>\n",
       "      <td>-709.356603</td>\n",
       "      <td>453.019877</td>\n",
       "      <td>-999.000000</td>\n",
       "      <td>-999.000000</td>\n",
       "      <td>-999.000000</td>\n",
       "      <td>-4.593000</td>\n",
       "      <td>16.690000</td>\n",
       "    </tr>\n",
       "    <tr>\n",
       "      <th>DER_deltar_tau_lep</th>\n",
       "      <td>250000.0</td>\n",
       "      <td>2.373100</td>\n",
       "      <td>0.782911</td>\n",
       "      <td>0.208000</td>\n",
       "      <td>1.810000</td>\n",
       "      <td>2.491500</td>\n",
       "      <td>2.961000</td>\n",
       "      <td>5.684000</td>\n",
       "    </tr>\n",
       "    <tr>\n",
       "      <th>DER_pt_tot</th>\n",
       "      <td>250000.0</td>\n",
       "      <td>18.917332</td>\n",
       "      <td>22.273494</td>\n",
       "      <td>0.000000</td>\n",
       "      <td>2.841000</td>\n",
       "      <td>12.315500</td>\n",
       "      <td>27.591000</td>\n",
       "      <td>2834.999000</td>\n",
       "    </tr>\n",
       "    <tr>\n",
       "      <th>DER_sum_pt</th>\n",
       "      <td>250000.0</td>\n",
       "      <td>158.432217</td>\n",
       "      <td>115.706115</td>\n",
       "      <td>46.104000</td>\n",
       "      <td>77.550000</td>\n",
       "      <td>120.664500</td>\n",
       "      <td>200.478250</td>\n",
       "      <td>1852.462000</td>\n",
       "    </tr>\n",
       "    <tr>\n",
       "      <th>DER_pt_ratio_lep_tau</th>\n",
       "      <td>250000.0</td>\n",
       "      <td>1.437609</td>\n",
       "      <td>0.844743</td>\n",
       "      <td>0.047000</td>\n",
       "      <td>0.883000</td>\n",
       "      <td>1.280000</td>\n",
       "      <td>1.777000</td>\n",
       "      <td>19.773000</td>\n",
       "    </tr>\n",
       "    <tr>\n",
       "      <th>DER_met_phi_centrality</th>\n",
       "      <td>250000.0</td>\n",
       "      <td>-0.128305</td>\n",
       "      <td>1.193585</td>\n",
       "      <td>-1.414000</td>\n",
       "      <td>-1.371000</td>\n",
       "      <td>-0.356000</td>\n",
       "      <td>1.225000</td>\n",
       "      <td>1.414000</td>\n",
       "    </tr>\n",
       "    <tr>\n",
       "      <th>DER_lep_eta_centrality</th>\n",
       "      <td>250000.0</td>\n",
       "      <td>-708.985189</td>\n",
       "      <td>453.596721</td>\n",
       "      <td>-999.000000</td>\n",
       "      <td>-999.000000</td>\n",
       "      <td>-999.000000</td>\n",
       "      <td>0.000000</td>\n",
       "      <td>1.000000</td>\n",
       "    </tr>\n",
       "    <tr>\n",
       "      <th>PRI_tau_pt</th>\n",
       "      <td>250000.0</td>\n",
       "      <td>38.707419</td>\n",
       "      <td>22.412081</td>\n",
       "      <td>20.000000</td>\n",
       "      <td>24.591750</td>\n",
       "      <td>31.804000</td>\n",
       "      <td>45.017000</td>\n",
       "      <td>764.408000</td>\n",
       "    </tr>\n",
       "    <tr>\n",
       "      <th>PRI_tau_eta</th>\n",
       "      <td>250000.0</td>\n",
       "      <td>-0.010973</td>\n",
       "      <td>1.214079</td>\n",
       "      <td>-2.499000</td>\n",
       "      <td>-0.925000</td>\n",
       "      <td>-0.023000</td>\n",
       "      <td>0.898000</td>\n",
       "      <td>2.497000</td>\n",
       "    </tr>\n",
       "    <tr>\n",
       "      <th>PRI_tau_phi</th>\n",
       "      <td>250000.0</td>\n",
       "      <td>-0.008171</td>\n",
       "      <td>1.816763</td>\n",
       "      <td>-3.142000</td>\n",
       "      <td>-1.575000</td>\n",
       "      <td>-0.033000</td>\n",
       "      <td>1.565000</td>\n",
       "      <td>3.142000</td>\n",
       "    </tr>\n",
       "    <tr>\n",
       "      <th>PRI_lep_pt</th>\n",
       "      <td>250000.0</td>\n",
       "      <td>46.660207</td>\n",
       "      <td>22.064922</td>\n",
       "      <td>26.000000</td>\n",
       "      <td>32.375000</td>\n",
       "      <td>40.516000</td>\n",
       "      <td>53.390000</td>\n",
       "      <td>560.271000</td>\n",
       "    </tr>\n",
       "    <tr>\n",
       "      <th>PRI_lep_eta</th>\n",
       "      <td>250000.0</td>\n",
       "      <td>-0.019507</td>\n",
       "      <td>1.264982</td>\n",
       "      <td>-2.505000</td>\n",
       "      <td>-1.014000</td>\n",
       "      <td>-0.045000</td>\n",
       "      <td>0.959000</td>\n",
       "      <td>2.503000</td>\n",
       "    </tr>\n",
       "    <tr>\n",
       "      <th>PRI_lep_phi</th>\n",
       "      <td>250000.0</td>\n",
       "      <td>0.043543</td>\n",
       "      <td>1.816611</td>\n",
       "      <td>-3.142000</td>\n",
       "      <td>-1.522000</td>\n",
       "      <td>0.086000</td>\n",
       "      <td>1.618000</td>\n",
       "      <td>3.142000</td>\n",
       "    </tr>\n",
       "    <tr>\n",
       "      <th>PRI_met</th>\n",
       "      <td>250000.0</td>\n",
       "      <td>41.717235</td>\n",
       "      <td>32.894693</td>\n",
       "      <td>0.109000</td>\n",
       "      <td>21.398000</td>\n",
       "      <td>34.802000</td>\n",
       "      <td>51.895000</td>\n",
       "      <td>2842.617000</td>\n",
       "    </tr>\n",
       "    <tr>\n",
       "      <th>PRI_met_phi</th>\n",
       "      <td>250000.0</td>\n",
       "      <td>-0.010119</td>\n",
       "      <td>1.812223</td>\n",
       "      <td>-3.142000</td>\n",
       "      <td>-1.575000</td>\n",
       "      <td>-0.024000</td>\n",
       "      <td>1.561000</td>\n",
       "      <td>3.142000</td>\n",
       "    </tr>\n",
       "    <tr>\n",
       "      <th>PRI_met_sumet</th>\n",
       "      <td>250000.0</td>\n",
       "      <td>209.797178</td>\n",
       "      <td>126.499506</td>\n",
       "      <td>13.678000</td>\n",
       "      <td>123.017500</td>\n",
       "      <td>179.739000</td>\n",
       "      <td>263.379250</td>\n",
       "      <td>2003.976000</td>\n",
       "    </tr>\n",
       "    <tr>\n",
       "      <th>PRI_jet_num</th>\n",
       "      <td>250000.0</td>\n",
       "      <td>0.979176</td>\n",
       "      <td>0.977426</td>\n",
       "      <td>0.000000</td>\n",
       "      <td>0.000000</td>\n",
       "      <td>1.000000</td>\n",
       "      <td>2.000000</td>\n",
       "      <td>3.000000</td>\n",
       "    </tr>\n",
       "    <tr>\n",
       "      <th>PRI_jet_leading_pt</th>\n",
       "      <td>250000.0</td>\n",
       "      <td>-348.329567</td>\n",
       "      <td>532.962789</td>\n",
       "      <td>-999.000000</td>\n",
       "      <td>-999.000000</td>\n",
       "      <td>38.960000</td>\n",
       "      <td>75.349000</td>\n",
       "      <td>1120.573000</td>\n",
       "    </tr>\n",
       "    <tr>\n",
       "      <th>PRI_jet_leading_eta</th>\n",
       "      <td>250000.0</td>\n",
       "      <td>-399.254314</td>\n",
       "      <td>489.338286</td>\n",
       "      <td>-999.000000</td>\n",
       "      <td>-999.000000</td>\n",
       "      <td>-1.872000</td>\n",
       "      <td>0.433000</td>\n",
       "      <td>4.499000</td>\n",
       "    </tr>\n",
       "    <tr>\n",
       "      <th>PRI_jet_leading_phi</th>\n",
       "      <td>250000.0</td>\n",
       "      <td>-399.259788</td>\n",
       "      <td>489.333883</td>\n",
       "      <td>-999.000000</td>\n",
       "      <td>-999.000000</td>\n",
       "      <td>-2.093000</td>\n",
       "      <td>0.503000</td>\n",
       "      <td>3.141000</td>\n",
       "    </tr>\n",
       "    <tr>\n",
       "      <th>PRI_jet_subleading_pt</th>\n",
       "      <td>250000.0</td>\n",
       "      <td>-692.381204</td>\n",
       "      <td>479.875496</td>\n",
       "      <td>-999.000000</td>\n",
       "      <td>-999.000000</td>\n",
       "      <td>-999.000000</td>\n",
       "      <td>33.703000</td>\n",
       "      <td>721.456000</td>\n",
       "    </tr>\n",
       "    <tr>\n",
       "      <th>PRI_jet_subleading_eta</th>\n",
       "      <td>250000.0</td>\n",
       "      <td>-709.121609</td>\n",
       "      <td>453.384624</td>\n",
       "      <td>-999.000000</td>\n",
       "      <td>-999.000000</td>\n",
       "      <td>-999.000000</td>\n",
       "      <td>-2.457000</td>\n",
       "      <td>4.500000</td>\n",
       "    </tr>\n",
       "    <tr>\n",
       "      <th>PRI_jet_subleading_phi</th>\n",
       "      <td>250000.0</td>\n",
       "      <td>-709.118631</td>\n",
       "      <td>453.389017</td>\n",
       "      <td>-999.000000</td>\n",
       "      <td>-999.000000</td>\n",
       "      <td>-999.000000</td>\n",
       "      <td>-2.275000</td>\n",
       "      <td>3.142000</td>\n",
       "    </tr>\n",
       "    <tr>\n",
       "      <th>PRI_jet_all_pt</th>\n",
       "      <td>250000.0</td>\n",
       "      <td>73.064591</td>\n",
       "      <td>98.015662</td>\n",
       "      <td>0.000000</td>\n",
       "      <td>0.000000</td>\n",
       "      <td>40.512500</td>\n",
       "      <td>109.933750</td>\n",
       "      <td>1633.433000</td>\n",
       "    </tr>\n",
       "    <tr>\n",
       "      <th>Weight</th>\n",
       "      <td>250000.0</td>\n",
       "      <td>1.646767</td>\n",
       "      <td>1.875103</td>\n",
       "      <td>0.001502</td>\n",
       "      <td>0.018636</td>\n",
       "      <td>1.156188</td>\n",
       "      <td>2.404128</td>\n",
       "      <td>7.822543</td>\n",
       "    </tr>\n",
       "  </tbody>\n",
       "</table>\n",
       "</div>"
      ],
      "text/plain": [
       "                                count           mean           std  \\\n",
       "EventId                      250000.0  224999.500000  72168.927986   \n",
       "DER_mass_MMC                 250000.0     -49.023079    406.345647   \n",
       "DER_mass_transverse_met_lep  250000.0      49.239819     35.344886   \n",
       "DER_mass_vis                 250000.0      81.181982     40.828691   \n",
       "DER_pt_h                     250000.0      57.895962     63.655682   \n",
       "DER_deltaeta_jet_jet         250000.0    -708.420675    454.480565   \n",
       "DER_mass_jet_jet             250000.0    -601.237051    657.972302   \n",
       "DER_prodeta_jet_jet          250000.0    -709.356603    453.019877   \n",
       "DER_deltar_tau_lep           250000.0       2.373100      0.782911   \n",
       "DER_pt_tot                   250000.0      18.917332     22.273494   \n",
       "DER_sum_pt                   250000.0     158.432217    115.706115   \n",
       "DER_pt_ratio_lep_tau         250000.0       1.437609      0.844743   \n",
       "DER_met_phi_centrality       250000.0      -0.128305      1.193585   \n",
       "DER_lep_eta_centrality       250000.0    -708.985189    453.596721   \n",
       "PRI_tau_pt                   250000.0      38.707419     22.412081   \n",
       "PRI_tau_eta                  250000.0      -0.010973      1.214079   \n",
       "PRI_tau_phi                  250000.0      -0.008171      1.816763   \n",
       "PRI_lep_pt                   250000.0      46.660207     22.064922   \n",
       "PRI_lep_eta                  250000.0      -0.019507      1.264982   \n",
       "PRI_lep_phi                  250000.0       0.043543      1.816611   \n",
       "PRI_met                      250000.0      41.717235     32.894693   \n",
       "PRI_met_phi                  250000.0      -0.010119      1.812223   \n",
       "PRI_met_sumet                250000.0     209.797178    126.499506   \n",
       "PRI_jet_num                  250000.0       0.979176      0.977426   \n",
       "PRI_jet_leading_pt           250000.0    -348.329567    532.962789   \n",
       "PRI_jet_leading_eta          250000.0    -399.254314    489.338286   \n",
       "PRI_jet_leading_phi          250000.0    -399.259788    489.333883   \n",
       "PRI_jet_subleading_pt        250000.0    -692.381204    479.875496   \n",
       "PRI_jet_subleading_eta       250000.0    -709.121609    453.384624   \n",
       "PRI_jet_subleading_phi       250000.0    -709.118631    453.389017   \n",
       "PRI_jet_all_pt               250000.0      73.064591     98.015662   \n",
       "Weight                       250000.0       1.646767      1.875103   \n",
       "\n",
       "                                       min            25%            50%  \\\n",
       "EventId                      100000.000000  162499.750000  224999.500000   \n",
       "DER_mass_MMC                   -999.000000      78.100750     105.012000   \n",
       "DER_mass_transverse_met_lep       0.000000      19.241000      46.524000   \n",
       "DER_mass_vis                      6.329000      59.388750      73.752000   \n",
       "DER_pt_h                          0.000000      14.068750      38.467500   \n",
       "DER_deltaeta_jet_jet           -999.000000    -999.000000    -999.000000   \n",
       "DER_mass_jet_jet               -999.000000    -999.000000    -999.000000   \n",
       "DER_prodeta_jet_jet            -999.000000    -999.000000    -999.000000   \n",
       "DER_deltar_tau_lep                0.208000       1.810000       2.491500   \n",
       "DER_pt_tot                        0.000000       2.841000      12.315500   \n",
       "DER_sum_pt                       46.104000      77.550000     120.664500   \n",
       "DER_pt_ratio_lep_tau              0.047000       0.883000       1.280000   \n",
       "DER_met_phi_centrality           -1.414000      -1.371000      -0.356000   \n",
       "DER_lep_eta_centrality         -999.000000    -999.000000    -999.000000   \n",
       "PRI_tau_pt                       20.000000      24.591750      31.804000   \n",
       "PRI_tau_eta                      -2.499000      -0.925000      -0.023000   \n",
       "PRI_tau_phi                      -3.142000      -1.575000      -0.033000   \n",
       "PRI_lep_pt                       26.000000      32.375000      40.516000   \n",
       "PRI_lep_eta                      -2.505000      -1.014000      -0.045000   \n",
       "PRI_lep_phi                      -3.142000      -1.522000       0.086000   \n",
       "PRI_met                           0.109000      21.398000      34.802000   \n",
       "PRI_met_phi                      -3.142000      -1.575000      -0.024000   \n",
       "PRI_met_sumet                    13.678000     123.017500     179.739000   \n",
       "PRI_jet_num                       0.000000       0.000000       1.000000   \n",
       "PRI_jet_leading_pt             -999.000000    -999.000000      38.960000   \n",
       "PRI_jet_leading_eta            -999.000000    -999.000000      -1.872000   \n",
       "PRI_jet_leading_phi            -999.000000    -999.000000      -2.093000   \n",
       "PRI_jet_subleading_pt          -999.000000    -999.000000    -999.000000   \n",
       "PRI_jet_subleading_eta         -999.000000    -999.000000    -999.000000   \n",
       "PRI_jet_subleading_phi         -999.000000    -999.000000    -999.000000   \n",
       "PRI_jet_all_pt                    0.000000       0.000000      40.512500   \n",
       "Weight                            0.001502       0.018636       1.156188   \n",
       "\n",
       "                                       75%            max  \n",
       "EventId                      287499.250000  349999.000000  \n",
       "DER_mass_MMC                    130.606250    1192.026000  \n",
       "DER_mass_transverse_met_lep      73.598000     690.075000  \n",
       "DER_mass_vis                     92.259000    1349.351000  \n",
       "DER_pt_h                         79.169000    2834.999000  \n",
       "DER_deltaeta_jet_jet              0.490000       8.503000  \n",
       "DER_mass_jet_jet                 83.446000    4974.979000  \n",
       "DER_prodeta_jet_jet              -4.593000      16.690000  \n",
       "DER_deltar_tau_lep                2.961000       5.684000  \n",
       "DER_pt_tot                       27.591000    2834.999000  \n",
       "DER_sum_pt                      200.478250    1852.462000  \n",
       "DER_pt_ratio_lep_tau              1.777000      19.773000  \n",
       "DER_met_phi_centrality            1.225000       1.414000  \n",
       "DER_lep_eta_centrality            0.000000       1.000000  \n",
       "PRI_tau_pt                       45.017000     764.408000  \n",
       "PRI_tau_eta                       0.898000       2.497000  \n",
       "PRI_tau_phi                       1.565000       3.142000  \n",
       "PRI_lep_pt                       53.390000     560.271000  \n",
       "PRI_lep_eta                       0.959000       2.503000  \n",
       "PRI_lep_phi                       1.618000       3.142000  \n",
       "PRI_met                          51.895000    2842.617000  \n",
       "PRI_met_phi                       1.561000       3.142000  \n",
       "PRI_met_sumet                   263.379250    2003.976000  \n",
       "PRI_jet_num                       2.000000       3.000000  \n",
       "PRI_jet_leading_pt               75.349000    1120.573000  \n",
       "PRI_jet_leading_eta               0.433000       4.499000  \n",
       "PRI_jet_leading_phi               0.503000       3.141000  \n",
       "PRI_jet_subleading_pt            33.703000     721.456000  \n",
       "PRI_jet_subleading_eta           -2.457000       4.500000  \n",
       "PRI_jet_subleading_phi           -2.275000       3.142000  \n",
       "PRI_jet_all_pt                  109.933750    1633.433000  \n",
       "Weight                            2.404128       7.822543  "
      ]
     },
     "execution_count": 5,
     "metadata": {},
     "output_type": "execute_result"
    }
   ],
   "source": [
    "df.describe().T"
   ]
  },
  {
   "cell_type": "code",
   "execution_count": 6,
   "id": "78730d2d",
   "metadata": {
    "ExecuteTime": {
     "end_time": "2022-06-07T10:59:23.700364Z",
     "start_time": "2022-06-07T10:59:23.669736Z"
    }
   },
   "outputs": [
    {
     "data": {
      "text/plain": [
       "0    33\n",
       "dtype: int64"
      ]
     },
     "execution_count": 6,
     "metadata": {},
     "output_type": "execute_result"
    }
   ],
   "source": [
    "df.isna().sum().value_counts()"
   ]
  },
  {
   "cell_type": "code",
   "execution_count": 7,
   "id": "12c0385c",
   "metadata": {
    "ExecuteTime": {
     "end_time": "2022-06-07T10:59:24.231871Z",
     "start_time": "2022-06-07T10:59:23.712924Z"
    }
   },
   "outputs": [
    {
     "data": {
      "text/plain": [
       "False    250000\n",
       "dtype: int64"
      ]
     },
     "execution_count": 7,
     "metadata": {},
     "output_type": "execute_result"
    }
   ],
   "source": [
    "df.duplicated().value_counts()"
   ]
  },
  {
   "cell_type": "markdown",
   "id": "39c3a66b",
   "metadata": {},
   "source": [
    "# Data Cleaning"
   ]
  },
  {
   "cell_type": "code",
   "execution_count": 8,
   "id": "c6d6fbc9",
   "metadata": {
    "ExecuteTime": {
     "end_time": "2022-06-07T10:59:24.989991Z",
     "start_time": "2022-06-07T10:59:24.949249Z"
    }
   },
   "outputs": [],
   "source": [
    "df.drop(['EventId'], axis=1, inplace=True)"
   ]
  },
  {
   "cell_type": "code",
   "execution_count": 9,
   "id": "aa8b970e",
   "metadata": {
    "ExecuteTime": {
     "end_time": "2022-06-07T10:59:25.693485Z",
     "start_time": "2022-06-07T10:59:25.673558Z"
    }
   },
   "outputs": [],
   "source": [
    "df['Labels'] = pd.get_dummies(df['Label'], drop_first=True)"
   ]
  },
  {
   "cell_type": "code",
   "execution_count": 10,
   "id": "c04a031c",
   "metadata": {
    "ExecuteTime": {
     "end_time": "2022-06-07T10:59:26.749464Z",
     "start_time": "2022-06-07T10:59:26.694184Z"
    }
   },
   "outputs": [
    {
     "data": {
      "text/plain": [
       "0    164333\n",
       "1     85667\n",
       "Name: Labels, dtype: int64"
      ]
     },
     "execution_count": 10,
     "metadata": {},
     "output_type": "execute_result"
    }
   ],
   "source": [
    "df.drop(['Label'], axis=1, inplace=True)\n",
    "df['Labels'].value_counts()"
   ]
  },
  {
   "cell_type": "code",
   "execution_count": 11,
   "id": "8742c837",
   "metadata": {
    "ExecuteTime": {
     "end_time": "2022-06-07T10:59:28.454755Z",
     "start_time": "2022-06-07T10:59:26.976881Z"
    }
   },
   "outputs": [
    {
     "data": {
      "text/plain": [
       "<AxesSubplot:>"
      ]
     },
     "execution_count": 11,
     "metadata": {},
     "output_type": "execute_result"
    },
    {
     "data": {
      "image/png": "[encoded data removed]",
      "text/plain": [
       "<Figure size 1008x720 with 2 Axes>"
      ]
     },
     "metadata": {
      "needs_background": "light"
     },
     "output_type": "display_data"
    }
   ],
   "source": [
    "plt.figure(figsize=(14, 10))\n",
    "sns.heatmap(df.corr(), cmap='viridis')"
   ]
  },
  {
   "cell_type": "code",
   "execution_count": 12,
   "id": "cdb32a52",
   "metadata": {
    "ExecuteTime": {
     "end_time": "2022-06-07T10:59:28.607218Z",
     "start_time": "2022-06-07T10:59:28.457008Z"
    }
   },
   "outputs": [],
   "source": [
    "df.drop(['DER_deltaeta_jet_jet'], axis=1, inplace=True)\n",
    "df.drop(['PRI_jet_subleading_eta'], axis=1, inplace=True)\n",
    "df.drop(['PRI_jet_subleading_phi'], axis=1, inplace=True)\n",
    "df.drop(['PRI_jet_subleading_pt'], axis=1, inplace=True)\n",
    "df.drop(['PRI_jet_leading_eta'], axis=1, inplace=True)\n",
    "df.drop(['PRI_jet_leading_phi'], axis=1, inplace=True)\n",
    "df.drop(['PRI_jet_leading_pt'], axis=1, inplace=True)"
   ]
  },
  {
   "cell_type": "code",
   "execution_count": 13,
   "id": "242b37a3",
   "metadata": {
    "ExecuteTime": {
     "end_time": "2022-06-07T10:59:28.718568Z",
     "start_time": "2022-06-07T10:59:28.609664Z"
    }
   },
   "outputs": [
    {
     "data": {
      "text/html": [
       "<div>\n",
       "<style scoped>\n",
       "    .dataframe tbody tr th:only-of-type {\n",
       "        vertical-align: middle;\n",
       "    }\n",
       "\n",
       "    .dataframe tbody tr th {\n",
       "        vertical-align: top;\n",
       "    }\n",
       "\n",
       "    .dataframe thead th {\n",
       "        text-align: right;\n",
       "    }\n",
       "</style>\n",
       "<table border=\"1\" class=\"dataframe\">\n",
       "  <thead>\n",
       "    <tr style=\"text-align: right;\">\n",
       "      <th></th>\n",
       "      <th>DER_mass_MMC</th>\n",
       "      <th>DER_mass_transverse_met_lep</th>\n",
       "      <th>DER_mass_vis</th>\n",
       "      <th>DER_pt_h</th>\n",
       "      <th>DER_mass_jet_jet</th>\n",
       "      <th>DER_prodeta_jet_jet</th>\n",
       "      <th>DER_deltar_tau_lep</th>\n",
       "      <th>DER_pt_tot</th>\n",
       "      <th>DER_sum_pt</th>\n",
       "      <th>DER_pt_ratio_lep_tau</th>\n",
       "      <th>...</th>\n",
       "      <th>PRI_lep_pt</th>\n",
       "      <th>PRI_lep_eta</th>\n",
       "      <th>PRI_lep_phi</th>\n",
       "      <th>PRI_met</th>\n",
       "      <th>PRI_met_phi</th>\n",
       "      <th>PRI_met_sumet</th>\n",
       "      <th>PRI_jet_num</th>\n",
       "      <th>PRI_jet_all_pt</th>\n",
       "      <th>Weight</th>\n",
       "      <th>Labels</th>\n",
       "    </tr>\n",
       "  </thead>\n",
       "  <tbody>\n",
       "    <tr>\n",
       "      <th>0</th>\n",
       "      <td>138.470</td>\n",
       "      <td>51.655</td>\n",
       "      <td>97.827</td>\n",
       "      <td>27.980</td>\n",
       "      <td>124.711</td>\n",
       "      <td>2.666</td>\n",
       "      <td>3.064</td>\n",
       "      <td>41.928</td>\n",
       "      <td>197.760</td>\n",
       "      <td>1.582</td>\n",
       "      <td>...</td>\n",
       "      <td>51.626</td>\n",
       "      <td>2.273</td>\n",
       "      <td>-2.414</td>\n",
       "      <td>16.824</td>\n",
       "      <td>-0.277</td>\n",
       "      <td>258.733</td>\n",
       "      <td>2.0</td>\n",
       "      <td>113.497</td>\n",
       "      <td>0.002653</td>\n",
       "      <td>1.0</td>\n",
       "    </tr>\n",
       "    <tr>\n",
       "      <th>1</th>\n",
       "      <td>160.937</td>\n",
       "      <td>68.768</td>\n",
       "      <td>103.235</td>\n",
       "      <td>48.146</td>\n",
       "      <td>NaN</td>\n",
       "      <td>NaN</td>\n",
       "      <td>3.473</td>\n",
       "      <td>2.078</td>\n",
       "      <td>125.157</td>\n",
       "      <td>0.879</td>\n",
       "      <td>...</td>\n",
       "      <td>36.918</td>\n",
       "      <td>0.501</td>\n",
       "      <td>0.103</td>\n",
       "      <td>44.704</td>\n",
       "      <td>-1.916</td>\n",
       "      <td>164.546</td>\n",
       "      <td>1.0</td>\n",
       "      <td>46.226</td>\n",
       "      <td>2.233584</td>\n",
       "      <td>0.0</td>\n",
       "    </tr>\n",
       "    <tr>\n",
       "      <th>2</th>\n",
       "      <td>NaN</td>\n",
       "      <td>162.172</td>\n",
       "      <td>125.953</td>\n",
       "      <td>35.635</td>\n",
       "      <td>NaN</td>\n",
       "      <td>NaN</td>\n",
       "      <td>3.148</td>\n",
       "      <td>9.336</td>\n",
       "      <td>197.814</td>\n",
       "      <td>3.776</td>\n",
       "      <td>...</td>\n",
       "      <td>121.409</td>\n",
       "      <td>-0.953</td>\n",
       "      <td>1.052</td>\n",
       "      <td>54.283</td>\n",
       "      <td>-2.186</td>\n",
       "      <td>260.414</td>\n",
       "      <td>1.0</td>\n",
       "      <td>44.251</td>\n",
       "      <td>2.347389</td>\n",
       "      <td>0.0</td>\n",
       "    </tr>\n",
       "    <tr>\n",
       "      <th>3</th>\n",
       "      <td>143.905</td>\n",
       "      <td>81.417</td>\n",
       "      <td>80.943</td>\n",
       "      <td>0.414</td>\n",
       "      <td>NaN</td>\n",
       "      <td>NaN</td>\n",
       "      <td>3.310</td>\n",
       "      <td>0.414</td>\n",
       "      <td>75.968</td>\n",
       "      <td>2.354</td>\n",
       "      <td>...</td>\n",
       "      <td>53.321</td>\n",
       "      <td>-0.522</td>\n",
       "      <td>-3.100</td>\n",
       "      <td>31.082</td>\n",
       "      <td>0.060</td>\n",
       "      <td>86.062</td>\n",
       "      <td>0.0</td>\n",
       "      <td>-0.000</td>\n",
       "      <td>5.446378</td>\n",
       "      <td>0.0</td>\n",
       "    </tr>\n",
       "    <tr>\n",
       "      <th>4</th>\n",
       "      <td>175.864</td>\n",
       "      <td>16.915</td>\n",
       "      <td>134.805</td>\n",
       "      <td>16.405</td>\n",
       "      <td>NaN</td>\n",
       "      <td>NaN</td>\n",
       "      <td>3.891</td>\n",
       "      <td>16.405</td>\n",
       "      <td>57.983</td>\n",
       "      <td>1.056</td>\n",
       "      <td>...</td>\n",
       "      <td>29.774</td>\n",
       "      <td>0.798</td>\n",
       "      <td>1.569</td>\n",
       "      <td>2.723</td>\n",
       "      <td>-0.871</td>\n",
       "      <td>53.131</td>\n",
       "      <td>0.0</td>\n",
       "      <td>0.000</td>\n",
       "      <td>6.245333</td>\n",
       "      <td>0.0</td>\n",
       "    </tr>\n",
       "  </tbody>\n",
       "</table>\n",
       "<p>5 rows × 25 columns</p>\n",
       "</div>"
      ],
      "text/plain": [
       "   DER_mass_MMC  DER_mass_transverse_met_lep  DER_mass_vis  DER_pt_h  \\\n",
       "0       138.470                       51.655        97.827    27.980   \n",
       "1       160.937                       68.768       103.235    48.146   \n",
       "2           NaN                      162.172       125.953    35.635   \n",
       "3       143.905                       81.417        80.943     0.414   \n",
       "4       175.864                       16.915       134.805    16.405   \n",
       "\n",
       "   DER_mass_jet_jet  DER_prodeta_jet_jet  DER_deltar_tau_lep  DER_pt_tot  \\\n",
       "0           124.711                2.666               3.064      41.928   \n",
       "1               NaN                  NaN               3.473       2.078   \n",
       "2               NaN                  NaN               3.148       9.336   \n",
       "3               NaN                  NaN               3.310       0.414   \n",
       "4               NaN                  NaN               3.891      16.405   \n",
       "\n",
       "   DER_sum_pt  DER_pt_ratio_lep_tau  ...  PRI_lep_pt  PRI_lep_eta  \\\n",
       "0     197.760                 1.582  ...      51.626        2.273   \n",
       "1     125.157                 0.879  ...      36.918        0.501   \n",
       "2     197.814                 3.776  ...     121.409       -0.953   \n",
       "3      75.968                 2.354  ...      53.321       -0.522   \n",
       "4      57.983                 1.056  ...      29.774        0.798   \n",
       "\n",
       "   PRI_lep_phi  PRI_met  PRI_met_phi  PRI_met_sumet  PRI_jet_num  \\\n",
       "0       -2.414   16.824       -0.277        258.733          2.0   \n",
       "1        0.103   44.704       -1.916        164.546          1.0   \n",
       "2        1.052   54.283       -2.186        260.414          1.0   \n",
       "3       -3.100   31.082        0.060         86.062          0.0   \n",
       "4        1.569    2.723       -0.871         53.131          0.0   \n",
       "\n",
       "   PRI_jet_all_pt    Weight  Labels  \n",
       "0         113.497  0.002653     1.0  \n",
       "1          46.226  2.233584     0.0  \n",
       "2          44.251  2.347389     0.0  \n",
       "3          -0.000  5.446378     0.0  \n",
       "4           0.000  6.245333     0.0  \n",
       "\n",
       "[5 rows x 25 columns]"
      ]
     },
     "execution_count": 13,
     "metadata": {},
     "output_type": "execute_result"
    }
   ],
   "source": [
    "arr = np.where((df == -999), np.nan, df)\n",
    "\n",
    "df = pd.DataFrame(arr, columns=df.columns)\n",
    "\n",
    "df.head()"
   ]
  },
  {
   "cell_type": "code",
   "execution_count": 14,
   "id": "dae46746",
   "metadata": {
    "ExecuteTime": {
     "end_time": "2022-06-07T10:59:28.758836Z",
     "start_time": "2022-06-07T10:59:28.721010Z"
    }
   },
   "outputs": [],
   "source": [
    "arr = np.where((df.isnull()), df.mean(), df)"
   ]
  },
  {
   "cell_type": "code",
   "execution_count": 15,
   "id": "955d6e06",
   "metadata": {
    "ExecuteTime": {
     "end_time": "2022-06-07T10:59:28.918932Z",
     "start_time": "2022-06-07T10:59:28.877591Z"
    }
   },
   "outputs": [
    {
     "data": {
      "text/html": [
       "<div>\n",
       "<style scoped>\n",
       "    .dataframe tbody tr th:only-of-type {\n",
       "        vertical-align: middle;\n",
       "    }\n",
       "\n",
       "    .dataframe tbody tr th {\n",
       "        vertical-align: top;\n",
       "    }\n",
       "\n",
       "    .dataframe thead th {\n",
       "        text-align: right;\n",
       "    }\n",
       "</style>\n",
       "<table border=\"1\" class=\"dataframe\">\n",
       "  <thead>\n",
       "    <tr style=\"text-align: right;\">\n",
       "      <th></th>\n",
       "      <th>DER_mass_MMC</th>\n",
       "      <th>DER_mass_transverse_met_lep</th>\n",
       "      <th>DER_mass_vis</th>\n",
       "      <th>DER_pt_h</th>\n",
       "      <th>DER_mass_jet_jet</th>\n",
       "      <th>DER_prodeta_jet_jet</th>\n",
       "      <th>DER_deltar_tau_lep</th>\n",
       "      <th>DER_pt_tot</th>\n",
       "      <th>DER_sum_pt</th>\n",
       "      <th>DER_pt_ratio_lep_tau</th>\n",
       "      <th>...</th>\n",
       "      <th>PRI_lep_pt</th>\n",
       "      <th>PRI_lep_eta</th>\n",
       "      <th>PRI_lep_phi</th>\n",
       "      <th>PRI_met</th>\n",
       "      <th>PRI_met_phi</th>\n",
       "      <th>PRI_met_sumet</th>\n",
       "      <th>PRI_jet_num</th>\n",
       "      <th>PRI_jet_all_pt</th>\n",
       "      <th>Weight</th>\n",
       "      <th>Labels</th>\n",
       "    </tr>\n",
       "  </thead>\n",
       "  <tbody>\n",
       "    <tr>\n",
       "      <th>0</th>\n",
       "      <td>138.470000</td>\n",
       "      <td>51.655</td>\n",
       "      <td>97.827</td>\n",
       "      <td>27.980</td>\n",
       "      <td>124.71100</td>\n",
       "      <td>2.666000</td>\n",
       "      <td>3.064</td>\n",
       "      <td>41.928</td>\n",
       "      <td>197.760</td>\n",
       "      <td>1.582</td>\n",
       "      <td>...</td>\n",
       "      <td>51.626</td>\n",
       "      <td>2.273</td>\n",
       "      <td>-2.414</td>\n",
       "      <td>16.824</td>\n",
       "      <td>-0.277</td>\n",
       "      <td>258.733</td>\n",
       "      <td>2.0</td>\n",
       "      <td>113.497</td>\n",
       "      <td>0.002653</td>\n",
       "      <td>1.0</td>\n",
       "    </tr>\n",
       "    <tr>\n",
       "      <th>1</th>\n",
       "      <td>160.937000</td>\n",
       "      <td>68.768</td>\n",
       "      <td>103.235</td>\n",
       "      <td>48.146</td>\n",
       "      <td>371.78336</td>\n",
       "      <td>-0.821688</td>\n",
       "      <td>3.473</td>\n",
       "      <td>2.078</td>\n",
       "      <td>125.157</td>\n",
       "      <td>0.879</td>\n",
       "      <td>...</td>\n",
       "      <td>36.918</td>\n",
       "      <td>0.501</td>\n",
       "      <td>0.103</td>\n",
       "      <td>44.704</td>\n",
       "      <td>-1.916</td>\n",
       "      <td>164.546</td>\n",
       "      <td>1.0</td>\n",
       "      <td>46.226</td>\n",
       "      <td>2.233584</td>\n",
       "      <td>0.0</td>\n",
       "    </tr>\n",
       "    <tr>\n",
       "      <th>2</th>\n",
       "      <td>121.858528</td>\n",
       "      <td>162.172</td>\n",
       "      <td>125.953</td>\n",
       "      <td>35.635</td>\n",
       "      <td>371.78336</td>\n",
       "      <td>-0.821688</td>\n",
       "      <td>3.148</td>\n",
       "      <td>9.336</td>\n",
       "      <td>197.814</td>\n",
       "      <td>3.776</td>\n",
       "      <td>...</td>\n",
       "      <td>121.409</td>\n",
       "      <td>-0.953</td>\n",
       "      <td>1.052</td>\n",
       "      <td>54.283</td>\n",
       "      <td>-2.186</td>\n",
       "      <td>260.414</td>\n",
       "      <td>1.0</td>\n",
       "      <td>44.251</td>\n",
       "      <td>2.347389</td>\n",
       "      <td>0.0</td>\n",
       "    </tr>\n",
       "    <tr>\n",
       "      <th>3</th>\n",
       "      <td>143.905000</td>\n",
       "      <td>81.417</td>\n",
       "      <td>80.943</td>\n",
       "      <td>0.414</td>\n",
       "      <td>371.78336</td>\n",
       "      <td>-0.821688</td>\n",
       "      <td>3.310</td>\n",
       "      <td>0.414</td>\n",
       "      <td>75.968</td>\n",
       "      <td>2.354</td>\n",
       "      <td>...</td>\n",
       "      <td>53.321</td>\n",
       "      <td>-0.522</td>\n",
       "      <td>-3.100</td>\n",
       "      <td>31.082</td>\n",
       "      <td>0.060</td>\n",
       "      <td>86.062</td>\n",
       "      <td>0.0</td>\n",
       "      <td>-0.000</td>\n",
       "      <td>5.446378</td>\n",
       "      <td>0.0</td>\n",
       "    </tr>\n",
       "    <tr>\n",
       "      <th>4</th>\n",
       "      <td>175.864000</td>\n",
       "      <td>16.915</td>\n",
       "      <td>134.805</td>\n",
       "      <td>16.405</td>\n",
       "      <td>371.78336</td>\n",
       "      <td>-0.821688</td>\n",
       "      <td>3.891</td>\n",
       "      <td>16.405</td>\n",
       "      <td>57.983</td>\n",
       "      <td>1.056</td>\n",
       "      <td>...</td>\n",
       "      <td>29.774</td>\n",
       "      <td>0.798</td>\n",
       "      <td>1.569</td>\n",
       "      <td>2.723</td>\n",
       "      <td>-0.871</td>\n",
       "      <td>53.131</td>\n",
       "      <td>0.0</td>\n",
       "      <td>0.000</td>\n",
       "      <td>6.245333</td>\n",
       "      <td>0.0</td>\n",
       "    </tr>\n",
       "  </tbody>\n",
       "</table>\n",
       "<p>5 rows × 25 columns</p>\n",
       "</div>"
      ],
      "text/plain": [
       "   DER_mass_MMC  DER_mass_transverse_met_lep  DER_mass_vis  DER_pt_h  \\\n",
       "0    138.470000                       51.655        97.827    27.980   \n",
       "1    160.937000                       68.768       103.235    48.146   \n",
       "2    121.858528                      162.172       125.953    35.635   \n",
       "3    143.905000                       81.417        80.943     0.414   \n",
       "4    175.864000                       16.915       134.805    16.405   \n",
       "\n",
       "   DER_mass_jet_jet  DER_prodeta_jet_jet  DER_deltar_tau_lep  DER_pt_tot  \\\n",
       "0         124.71100             2.666000               3.064      41.928   \n",
       "1         371.78336            -0.821688               3.473       2.078   \n",
       "2         371.78336            -0.821688               3.148       9.336   \n",
       "3         371.78336            -0.821688               3.310       0.414   \n",
       "4         371.78336            -0.821688               3.891      16.405   \n",
       "\n",
       "   DER_sum_pt  DER_pt_ratio_lep_tau  ...  PRI_lep_pt  PRI_lep_eta  \\\n",
       "0     197.760                 1.582  ...      51.626        2.273   \n",
       "1     125.157                 0.879  ...      36.918        0.501   \n",
       "2     197.814                 3.776  ...     121.409       -0.953   \n",
       "3      75.968                 2.354  ...      53.321       -0.522   \n",
       "4      57.983                 1.056  ...      29.774        0.798   \n",
       "\n",
       "   PRI_lep_phi  PRI_met  PRI_met_phi  PRI_met_sumet  PRI_jet_num  \\\n",
       "0       -2.414   16.824       -0.277        258.733          2.0   \n",
       "1        0.103   44.704       -1.916        164.546          1.0   \n",
       "2        1.052   54.283       -2.186        260.414          1.0   \n",
       "3       -3.100   31.082        0.060         86.062          0.0   \n",
       "4        1.569    2.723       -0.871         53.131          0.0   \n",
       "\n",
       "   PRI_jet_all_pt    Weight  Labels  \n",
       "0         113.497  0.002653     1.0  \n",
       "1          46.226  2.233584     0.0  \n",
       "2          44.251  2.347389     0.0  \n",
       "3          -0.000  5.446378     0.0  \n",
       "4           0.000  6.245333     0.0  \n",
       "\n",
       "[5 rows x 25 columns]"
      ]
     },
     "execution_count": 15,
     "metadata": {},
     "output_type": "execute_result"
    }
   ],
   "source": [
    "df = pd.DataFrame(arr, columns=df.columns)\n",
    "\n",
    "df.head()"
   ]
  },
  {
   "cell_type": "code",
   "execution_count": 16,
   "id": "559e4153",
   "metadata": {
    "ExecuteTime": {
     "end_time": "2022-06-07T10:59:30.312768Z",
     "start_time": "2022-06-07T10:59:30.226194Z"
    }
   },
   "outputs": [
    {
     "data": {
      "text/plain": [
       "DER_mass_MMC                   1\n",
       "DER_mass_transverse_met_lep    1\n",
       "DER_mass_vis                   1\n",
       "DER_pt_h                       1\n",
       "DER_mass_jet_jet               1\n",
       "DER_prodeta_jet_jet            1\n",
       "DER_deltar_tau_lep             1\n",
       "DER_pt_tot                     1\n",
       "DER_sum_pt                     1\n",
       "DER_pt_ratio_lep_tau           1\n",
       "DER_met_phi_centrality         1\n",
       "DER_lep_eta_centrality         1\n",
       "PRI_tau_pt                     1\n",
       "PRI_tau_eta                    1\n",
       "PRI_tau_phi                    1\n",
       "PRI_lep_pt                     1\n",
       "PRI_lep_eta                    1\n",
       "PRI_lep_phi                    1\n",
       "PRI_met                        1\n",
       "PRI_met_phi                    1\n",
       "PRI_met_sumet                  1\n",
       "PRI_jet_num                    1\n",
       "PRI_jet_all_pt                 1\n",
       "Weight                         1\n",
       "Labels                         1\n",
       "dtype: int64"
      ]
     },
     "execution_count": 16,
     "metadata": {},
     "output_type": "execute_result"
    }
   ],
   "source": [
    "df.isnull().nunique()"
   ]
  },
  {
   "cell_type": "markdown",
   "id": "f5d3a787",
   "metadata": {},
   "source": [
    "# Training of the model"
   ]
  },
  {
   "cell_type": "code",
   "execution_count": 17,
   "id": "3ebf3feb",
   "metadata": {
    "ExecuteTime": {
     "end_time": "2022-06-07T10:59:58.095882Z",
     "start_time": "2022-06-07T10:59:58.091999Z"
    }
   },
   "outputs": [],
   "source": [
    "from sklearn.linear_model import SGDClassifier\n",
    "from sklearn.ensemble import RandomForestClassifier\n",
    "from xgboost import XGBClassifier\n",
    "rf = RandomForestClassifier()\n",
    "xgb = XGBClassifier()\n",
    "sgd_model = SGDClassifier()"
   ]
  },
  {
   "cell_type": "code",
   "execution_count": 18,
   "id": "390c7324",
   "metadata": {
    "ExecuteTime": {
     "end_time": "2022-06-07T11:00:02.641628Z",
     "start_time": "2022-06-07T11:00:02.626936Z"
    }
   },
   "outputs": [],
   "source": [
    "X = df.drop(['Labels'], axis=1)\n",
    "y = df['Labels']\n",
    "\n",
    "from sklearn.model_selection import train_test_split"
   ]
  },
  {
   "cell_type": "code",
   "execution_count": 19,
   "id": "17a35586",
   "metadata": {
    "ExecuteTime": {
     "end_time": "2022-06-07T11:00:04.202541Z",
     "start_time": "2022-06-07T11:00:04.097545Z"
    }
   },
   "outputs": [],
   "source": [
    "X_train, X_test, y_train, y_test = train_test_split(X, y, test_size=0.3, random_state=101)"
   ]
  },
  {
   "cell_type": "code",
   "execution_count": 20,
   "id": "a982d5bf",
   "metadata": {
    "ExecuteTime": {
     "end_time": "2022-06-07T11:00:14.898932Z",
     "start_time": "2022-06-07T11:00:06.351566Z"
    }
   },
   "outputs": [
    {
     "data": {
      "text/plain": [
       "SGDClassifier()"
      ]
     },
     "execution_count": 20,
     "metadata": {},
     "output_type": "execute_result"
    }
   ],
   "source": [
    "sgd_model.fit(X_train, y_train)"
   ]
  },
  {
   "cell_type": "code",
   "execution_count": 22,
   "id": "2bbae51f",
   "metadata": {
    "ExecuteTime": {
     "end_time": "2022-06-07T11:00:28.028181Z",
     "start_time": "2022-06-07T11:00:28.001601Z"
    }
   },
   "outputs": [
    {
     "data": {
      "text/plain": [
       "0.91804"
      ]
     },
     "execution_count": 22,
     "metadata": {},
     "output_type": "execute_result"
    }
   ],
   "source": [
    "sgd_model.score(X_test, y_test)"
   ]
  },
  {
   "cell_type": "code",
   "execution_count": 23,
   "id": "867d25fc",
   "metadata": {
    "ExecuteTime": {
     "end_time": "2022-06-07T11:01:10.307305Z",
     "start_time": "2022-06-07T11:00:44.356519Z"
    }
   },
   "outputs": [
    {
     "data": {
      "text/plain": [
       "RandomForestClassifier()"
      ]
     },
     "execution_count": 23,
     "metadata": {},
     "output_type": "execute_result"
    }
   ],
   "source": [
    "rf.fit(X_train, y_train)"
   ]
  },
  {
   "cell_type": "code",
   "execution_count": 24,
   "id": "6a924ad2",
   "metadata": {
    "ExecuteTime": {
     "end_time": "2022-06-07T11:01:10.892189Z",
     "start_time": "2022-06-07T11:01:10.310015Z"
    }
   },
   "outputs": [
    {
     "data": {
      "text/plain": [
       "1.0"
      ]
     },
     "execution_count": 24,
     "metadata": {},
     "output_type": "execute_result"
    }
   ],
   "source": [
    "rf.score(X_test, y_test)"
   ]
  },
  {
   "cell_type": "code",
   "execution_count": 25,
   "id": "59034a5f",
   "metadata": {
    "ExecuteTime": {
     "end_time": "2022-06-07T11:01:33.495725Z",
     "start_time": "2022-06-07T11:01:30.372796Z"
    }
   },
   "outputs": [
    {
     "name": "stderr",
     "output_type": "stream",
     "text": [
      "/Users/thilakcm/opt/anaconda3/lib/python3.8/site-packages/xgboost/sklearn.py:1146: UserWarning: The use of label encoder in XGBClassifier is deprecated and will be removed in a future release. To remove this warning, do the following: 1) Pass option use_label_encoder=False when constructing XGBClassifier object; and 2) Encode your labels (y) as integers starting with 0, i.e. 0, 1, 2, ..., [num_class - 1].\n",
      "  warnings.warn(label_encoder_deprecation_msg, UserWarning)\n"
     ]
    },
    {
     "name": "stdout",
     "output_type": "stream",
     "text": [
      "[16:31:30] WARNING: /Users/travis/build/dmlc/xgboost/src/learner.cc:1095: Starting in XGBoost 1.3.0, the default evaluation metric used with the objective 'binary:logistic' was changed from 'error' to 'logloss'. Explicitly set eval_metric if you'd like to restore the old behavior.\n"
     ]
    },
    {
     "data": {
      "text/plain": [
       "XGBClassifier(base_score=0.5, booster='gbtree', colsample_bylevel=1,\n",
       "              colsample_bynode=1, colsample_bytree=1, gamma=0, gpu_id=-1,\n",
       "              importance_type='gain', interaction_constraints='',\n",
       "              learning_rate=0.300000012, max_delta_step=0, max_depth=6,\n",
       "              min_child_weight=1, missing=nan, monotone_constraints='()',\n",
       "              n_estimators=100, n_jobs=8, num_parallel_tree=1, random_state=0,\n",
       "              reg_alpha=0, reg_lambda=1, scale_pos_weight=1, subsample=1,\n",
       "              tree_method='exact', validate_parameters=1, verbosity=None)"
      ]
     },
     "execution_count": 25,
     "metadata": {},
     "output_type": "execute_result"
    }
   ],
   "source": [
    "xgb.fit(X_train, y_train)"
   ]
  },
  {
   "cell_type": "code",
   "execution_count": 26,
   "id": "fbca015e",
   "metadata": {
    "ExecuteTime": {
     "end_time": "2022-06-07T11:01:42.575489Z",
     "start_time": "2022-06-07T11:01:42.540605Z"
    }
   },
   "outputs": [
    {
     "data": {
      "text/plain": [
       "1.0"
      ]
     },
     "execution_count": 26,
     "metadata": {},
     "output_type": "execute_result"
    }
   ],
   "source": [
    "xgb.score(X_test, y_test)"
   ]
  },
  {
   "cell_type": "markdown",
   "id": "380d8b56",
   "metadata": {},
   "source": [
    "# Evaluation metrics"
   ]
  },
  {
   "cell_type": "code",
   "execution_count": 27,
   "id": "ab043cdc",
   "metadata": {
    "ExecuteTime": {
     "end_time": "2022-06-07T11:05:24.535714Z",
     "start_time": "2022-06-07T11:05:24.523340Z"
    }
   },
   "outputs": [],
   "source": [
    "from sklearn.metrics import classification_report, confusion_matrix"
   ]
  },
  {
   "cell_type": "code",
   "execution_count": 28,
   "id": "edd85cf7",
   "metadata": {
    "ExecuteTime": {
     "end_time": "2022-06-07T11:05:25.099689Z",
     "start_time": "2022-06-07T11:05:24.937558Z"
    }
   },
   "outputs": [
    {
     "name": "stdout",
     "output_type": "stream",
     "text": [
      "              precision    recall  f1-score   support\n",
      "\n",
      "         0.0       0.95      0.93      0.94     50568\n",
      "         1.0       0.86      0.90      0.88     24432\n",
      "\n",
      "    accuracy                           0.92     75000\n",
      "   macro avg       0.90      0.91      0.91     75000\n",
      "weighted avg       0.92      0.92      0.92     75000\n",
      "\n"
     ]
    }
   ],
   "source": [
    "print(classification_report(predictions, y_test))"
   ]
  },
  {
   "cell_type": "code",
   "execution_count": 29,
   "id": "da552b48",
   "metadata": {
    "ExecuteTime": {
     "end_time": "2022-06-07T11:05:25.411165Z",
     "start_time": "2022-06-07T11:05:25.313730Z"
    }
   },
   "outputs": [
    {
     "name": "stdout",
     "output_type": "stream",
     "text": [
      "The training accuracy is 91.84400000000001 and the test accuracy is 91.804\n"
     ]
    }
   ],
   "source": [
    "print(f\"The training accuracy is {sgd_model.score(X_train, y_train)*100} and the test accuracy is {sgd_model.score(X_test, y_test)*100}\")"
   ]
  },
  {
   "cell_type": "code",
   "execution_count": 30,
   "id": "34aff8b9",
   "metadata": {
    "ExecuteTime": {
     "end_time": "2022-06-07T11:05:25.924705Z",
     "start_time": "2022-06-07T11:05:25.861368Z"
    }
   },
   "outputs": [
    {
     "name": "stdout",
     "output_type": "stream",
     "text": [
      "[[46839  3729]\n",
      " [ 2418 22014]]\n"
     ]
    }
   ],
   "source": [
    "print(confusion_matrix(predictions, y_test))"
   ]
  },
  {
   "cell_type": "code",
   "execution_count": null,
   "id": "6304e471",
   "metadata": {},
   "outputs": [],
   "source": []
  },
  {
   "cell_type": "code",
   "execution_count": null,
   "id": "091db2cd",
   "metadata": {},
   "outputs": [],
   "source": [
    "import joblib\n",
    "\n",
    "with open(\"model.joblib\", 'wb') as mod:\n",
    "    joblib.dump(sgd_model, mod)"
   ]
  },
  {
   "cell_type": "code",
   "execution_count": null,
   "id": "15448093",
   "metadata": {},
   "outputs": [],
   "source": [
    "with open(\"input_features.joblib\", 'wb') as ft:\n",
    "    joblib.dump(X.columns, ft)"
   ]
  },
  {
   "cell_type": "code",
   "execution_count": null,
   "id": "0da8635b",
   "metadata": {},
   "outputs": [],
   "source": []
  }
 ],
 "metadata": {
  "interpreter": {
   "hash": "aee8b7b246df8f9039afb4144a1f6fd8d2ca17a180786b69acc140d282b71a49"
  },
  "kernelspec": {
   "display_name": "Python 3",
   "language": "python",
   "name": "python3"
  },
  "language_info": {
   "codemirror_mode": {
    "name": "ipython",
    "version": 3
   },
   "file_extension": ".py",
   "mimetype": "text/x-python",
   "name": "python",
   "nbconvert_exporter": "python",
   "pygments_lexer": "ipython3",
   "version": "3.8.8"
  }
 },
 "nbformat": 4,
 "nbformat_minor": 5
}
